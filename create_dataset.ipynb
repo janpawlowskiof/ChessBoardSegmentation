{
 "metadata": {
  "language_info": {
   "codemirror_mode": {
    "name": "ipython",
    "version": 3
   },
   "file_extension": ".py",
   "mimetype": "text/x-python",
   "name": "python",
   "nbconvert_exporter": "python",
   "pygments_lexer": "ipython3",
   "version": "3.8.5-final"
  },
  "orig_nbformat": 2,
  "kernelspec": {
   "name": "python38364bitbasecondac4bb91f68024495ba6c763fc638b6355",
   "language": "python",
   "display_name": "Python 3.8.3 64-bit ('base': conda)"
  }
 },
 "nbformat": 4,
 "nbformat_minor": 2,
 "cells": [
  {
   "cell_type": "code",
   "execution_count": 1,
   "outputs": [],
   "source": [
    "import os\n",
    "import glob\n",
    "import shutil\n",
    "import pickle\n",
    "import subprocess\n",
    "import cv2\n",
    "from path import Path\n",
    "from IPython.display import display\n",
    "\n",
    "RAW_PATH = '/home/eg4l/Downloads/test3'\n",
    "UNFILTERED_TMP_PATH = '/home/eg4l/datasets/tmp/unfiltered_tmp_chess'\n",
    "FILTERED_TMP_PATH = '/home/eg4l/datasets/tmp/filtered_tmp_chess'\n",
    "\n",
    "WHITE_PATH = '/home/eg4l/datasets/data/white'\n",
    "BLACK_PATH = '/home/eg4l/datasets/data/black'\n",
    "EMPTY_PATH = '/home/eg4l/datasets/data/empty'\n",
    "LABELS_PATH = '/home/eg4l/datasets/labels.pickle'\n",
    "\n",
    "EMPTY = 0\n",
    "WHITE = 1\n",
    "BLACK = 2\n",
    "\n",
    "WINDOW_NAME = 'is this split correctly? (y/n)'"
   ],
   "metadata": {
    "collapsed": false,
    "pycharm": {
     "name": "#%%\n"
    }
   }
  },
  {
   "cell_type": "code",
   "execution_count": 5,
   "outputs": [
    {
     "name": "stdout",
     "output_type": "stream",
     "text": [
      "What is this?\n",
      "Rotating /home/eg4l/Downloads/test3/2021-02-18-09-09-00-280.jpg CCW\n",
      "Rotating /home/eg4l/Downloads/test3/2021-02-18-09-09-00-280.jpg CW\n",
      "Rotating /home/eg4l/Downloads/test3/2021-02-18-09-09-00-280.jpg CCW\n",
      "Rotating /home/eg4l/Downloads/test3/2021-02-18-09-09-00-280.jpg CW\n",
      "Rotating /home/eg4l/Downloads/test3/2021-02-18-09-09-00-280.jpg CW\n",
      "Rotating /home/eg4l/Downloads/test3/2021-02-18-09-09-00-280.jpg CCW\n",
      "quitting\n"
     ]
    }
   ],
   "source": [
    "def correct_rotation():\n",
    "    for file in glob.glob(RAW_PATH + '/*.*'):\n",
    "\n",
    "        while True:\n",
    "            img = cv2.imread(file, cv2.IMREAD_COLOR)\n",
    "            cv2.imshow('Rotate the picture so that left bottom corner is black', img)\n",
    "\n",
    "            k = cv2.waitKey(0)\n",
    "\n",
    "            if k == ord('t'):\n",
    "                img = cv2.rotate(img, cv2.ROTATE_90_COUNTERCLOCKWISE)\n",
    "                cv2.imwrite(file, img)\n",
    "                print(f\"Rotating {file} CCW\")\n",
    "            elif k == ord('r'):\n",
    "                img = cv2.rotate(img, cv2.ROTATE_90_CLOCKWISE)\n",
    "                cv2.imwrite(file, img)\n",
    "                print(f\"Rotating {file} CW\")\n",
    "            elif k == ord('y'):\n",
    "                break\n",
    "            elif k == ord('q'):\n",
    "                print('quitting')\n",
    "                cv2.destroyAllWindows()\n",
    "                return\n",
    "            else:\n",
    "                print(\"What is this?\")\n",
    "\n",
    "    print(\"Done correcting all images\")\n",
    "    cv2.destroyAllWindows()\n",
    "\n",
    "correct_rotation()"
   ],
   "metadata": {
    "collapsed": false,
    "pycharm": {
     "name": "#%%\n"
    }
   }
  },
  {
   "cell_type": "code",
   "execution_count": 2,
   "outputs": [
    {
     "data": {
      "text/plain": "CompletedProcess(args=['/home/eg4l/CLionProjects/ChessboardDetectionLib/ChessboardDetectionLib', '/home/eg4l/Downloads/test3', '/home/eg4l/datasets/tmp/unfiltered_tmp_chess'], returncode=0)"
     },
     "execution_count": 2,
     "metadata": {},
     "output_type": "execute_result"
    }
   ],
   "source": [
    "subprocess.run(['/home/eg4l/CLionProjects/ChessboardDetectionLib/ChessboardDetectionLib', RAW_PATH, UNFILTERED_TMP_PATH])"
   ],
   "metadata": {
    "collapsed": false,
    "pycharm": {
     "name": "#%%\n"
    }
   }
  },
  {
   "cell_type": "code",
   "execution_count": 6,
   "metadata": {},
   "outputs": [],
   "source": [
    "# cv2.namedWindow(WINDOW_NAME)\n",
    "# cv2.setWindowProperty(WINDOW_NAME, cv2.WND_PROP_FULLSCREEN, cv2.WINDOW_NORMAL)\n",
    "def filter_splits():\n",
    "    for file in glob.glob(UNFILTERED_TMP_PATH + '/*/_mozaic.*'):\n",
    "        mozaic = cv2.imread(file, cv2.IMREAD_COLOR)\n",
    "        mozaic = cv2.resize(mozaic, (int(mozaic.shape[1]*0.8), int(mozaic.shape[0]*0.8)))\n",
    "\n",
    "        cv2.imshow(WINDOW_NAME, mozaic)\n",
    "        k = cv2.waitKey(0)\n",
    "\n",
    "        path = Path(file)\n",
    "        if k == ord('y'):\n",
    "            path.parent.move(f'{FILTERED_TMP_PATH}/{path.parent.name}')\n",
    "            print(f\"Moving {file} to {FILTERED_TMP_PATH}\")\n",
    "        elif k == ord('n'):\n",
    "            shutil.rmtree(path.parent)\n",
    "            print(f\"Removeing {path.parent}\")\n",
    "        elif k == ord('q'):\n",
    "            cv2.destroyAllWindows()\n",
    "            return\n",
    "        else:\n",
    "            print(\"What is this?\")\n",
    "\n",
    "    cv2.destroyAllWindows()\n",
    "    print(\"Done!\")\n",
    "\n",
    "filter_splits()"
   ]
  },
  {
   "cell_type": "code",
   "execution_count": 7,
   "outputs": [
    {
     "data": {
      "text/plain": "'Counter'"
     },
     "metadata": {},
     "output_type": "display_data"
    },
    {
     "name": "stdout",
     "output_type": "stream",
     "text": [
      "Marking cell # 0/1600\n",
      "Marking cell # 1/1600\n",
      "Marking cell # 2/1600\n",
      "Marking cell # 3/1600\n",
      "Marking cell # 4/1600\n",
      "Marking cell # 5/1600\n",
      "Marking cell # 6/1600\n",
      "Marking cell # 7/1600\n",
      "Marking cell # 8/1600\n",
      "Marking cell # 9/1600\n",
      "Marking cell # 10/1600\n",
      "Marking cell # 11/1600\n",
      "Marking cell # 12/1600\n",
      "Marking cell # 13/1600\n",
      "Marking cell # 14/1600\n",
      "Marking cell # 15/1600\n",
      "Marking cell # 16/1600\n",
      "Marking cell # 17/1600\n",
      "Marking cell # 18/1600\n",
      "Marking cell # 17/1600\n",
      "Marking cell # 18/1600\n",
      "Marking cell # 18/1600\n",
      "Marking cell # 18/1600\n",
      "Marking cell # 18/1600\n",
      "Marking cell # 18/1600\n",
      "Marking cell # 18/1600\n",
      "Marking cell # 18/1600\n",
      "Marking cell # 18/1600\n",
      "Marking cell # 18/1600\n",
      "Marking cell # 18/1600\n",
      "Marking cell # 19/1600\n",
      "Marking cell # 20/1600\n",
      "Marking cell # 21/1600\n",
      "Marking cell # 22/1600\n",
      "Marking cell # 23/1600\n",
      "Marking cell # 24/1600\n",
      "Marking cell # 25/1600\n",
      "Marking cell # 26/1600\n",
      "Marking cell # 27/1600\n",
      "Marking cell # 28/1600\n",
      "Marking cell # 29/1600\n",
      "Marking cell # 30/1600\n",
      "Marking cell # 31/1600\n",
      "Marking cell # 31/1600\n",
      "Marking cell # 31/1600\n",
      "Marking cell # 32/1600\n",
      "Marking cell # 33/1600\n",
      "Marking cell # 34/1600\n",
      "Marking cell # 35/1600\n",
      "Marking cell # 36/1600\n",
      "Marking cell # 37/1600\n",
      "Marking cell # 36/1600\n",
      "Marking cell # 35/1600\n",
      "Marking cell # 34/1600\n",
      "Marking cell # 33/1600\n",
      "Marking cell # 34/1600\n",
      "Marking cell # 35/1600\n",
      "Marking cell # 36/1600\n",
      "Marking cell # 37/1600\n",
      "Marking cell # 38/1600\n",
      "Marking cell # 39/1600\n",
      "Marking cell # 40/1600\n",
      "Marking cell # 41/1600\n",
      "Marking cell # 42/1600\n",
      "Marking cell # 43/1600\n",
      "Marking cell # 44/1600\n",
      "Marking cell # 45/1600\n",
      "Marking cell # 46/1600\n",
      "Marking cell # 47/1600\n",
      "Marking cell # 48/1600\n",
      "Marking cell # 49/1600\n",
      "Marking cell # 50/1600\n",
      "Marking cell # 51/1600\n",
      "Marking cell # 52/1600\n",
      "Marking cell # 53/1600\n",
      "Marking cell # 54/1600\n",
      "Marking cell # 55/1600\n",
      "Marking cell # 56/1600\n",
      "Marking cell # 57/1600\n",
      "Marking cell # 58/1600\n",
      "Marking cell # 59/1600\n",
      "Marking cell # 60/1600\n",
      "Marking cell # 61/1600\n",
      "Marking cell # 62/1600\n",
      "Marking cell # 63/1600\n",
      "Marking cell # 64/1600\n",
      "Marking cell # 65/1600\n",
      "Marking cell # 66/1600\n",
      "Marking cell # 67/1600\n",
      "Marking cell # 68/1600\n",
      "Marking cell # 69/1600\n",
      "Marking cell # 70/1600\n",
      "Marking cell # 71/1600\n",
      "Marking cell # 72/1600\n",
      "Marking cell # 73/1600\n",
      "Marking cell # 74/1600\n",
      "Marking cell # 75/1600\n",
      "Marking cell # 76/1600\n",
      "Marking cell # 77/1600\n",
      "Marking cell # 78/1600\n",
      "Marking cell # 79/1600\n",
      "Marking cell # 80/1600\n",
      "Marking cell # 81/1600\n",
      "Marking cell # 82/1600\n",
      "Marking cell # 83/1600\n",
      "Marking cell # 84/1600\n",
      "Marking cell # 85/1600\n",
      "Marking cell # 86/1600\n",
      "Marking cell # 87/1600\n",
      "Marking cell # 88/1600\n",
      "Marking cell # 89/1600\n",
      "Marking cell # 88/1600\n",
      "Marking cell # 89/1600\n",
      "Marking cell # 90/1600\n",
      "Marking cell # 91/1600\n",
      "Marking cell # 92/1600\n",
      "Marking cell # 93/1600\n",
      "Marking cell # 94/1600\n",
      "Marking cell # 95/1600\n",
      "Marking cell # 96/1600\n",
      "Marking cell # 97/1600\n",
      "Marking cell # 98/1600\n",
      "Marking cell # 99/1600\n",
      "Marking cell # 100/1600\n",
      "Marking cell # 101/1600\n",
      "Marking cell # 102/1600\n",
      "Marking cell # 103/1600\n",
      "Marking cell # 104/1600\n",
      "Marking cell # 105/1600\n",
      "Marking cell # 106/1600\n",
      "Marking cell # 107/1600\n",
      "Marking cell # 108/1600\n",
      "Marking cell # 109/1600\n",
      "Marking cell # 110/1600\n",
      "Marking cell # 111/1600\n",
      "Marking cell # 112/1600\n",
      "Marking cell # 113/1600\n"
     ]
    }
   ],
   "source": [
    "def mark_cells(files, labels):\n",
    "    index = 0\n",
    "    dh = display('Counter', display_id=True)\n",
    "    while True:\n",
    "        if index < 0 or index >= len(files):\n",
    "            break\n",
    "        print(f\"Marking cell # {index}/{len(files)}\")\n",
    "        # dh.update(f\"Marking cell # {index}/{len(files)}\")\n",
    "\n",
    "        file = files[index]\n",
    "        relative_path = Path(file).relpath(FILTERED_TMP_PATH)\n",
    "        color = labels.setdefault(relative_path, EMPTY)\n",
    "        cell = cv2.imread(file, cv2.IMREAD_COLOR)\n",
    "        cell = cv2.resize(cell, (512, 512))\n",
    "        if color == EMPTY:\n",
    "            cv2.circle(cell, (50, 50), 50, (128, 128, 128), 3)\n",
    "        elif color == WHITE:\n",
    "            cv2.circle(cell, (50, 50), 50, (255, 255, 255), -1)\n",
    "        elif color == BLACK:\n",
    "            cv2.circle(cell, (50, 50), 50, (0, 0, 0), -1)\n",
    "        elif color == -1:\n",
    "            cv2.circle(cell, (50, 50), 50, (0, 0, 255), -1)\n",
    "\n",
    "        cv2.imshow('is this black/white/empty or incorrect (b/w/e or r)', cell)\n",
    "\n",
    "        k = cv2.waitKey(0)\n",
    "        if k == ord('['):\n",
    "            index -= 1\n",
    "        elif k == ord(']'):\n",
    "            index += 1\n",
    "        elif k == ord('b'):\n",
    "            labels[relative_path] = BLACK\n",
    "        elif k == ord('w'):\n",
    "            labels[relative_path] = WHITE\n",
    "        elif k == ord('e'):\n",
    "            labels[relative_path] = EMPTY\n",
    "        elif k == ord('r'):\n",
    "            labels[relative_path] = -1\n",
    "        elif k == ord('q'):\n",
    "            cv2.destroyAllWindows()\n",
    "            return\n",
    "        else:\n",
    "            print(\"Unknown keypress :<\")\n",
    "        with open(LABELS_PATH, \"wb\") as labels_file:\n",
    "            pickle.dump(labels, labels_file)\n",
    "\n",
    "    cv2.destroyAllWindows()\n",
    "    print(\"Done!\")\n",
    "\n",
    "def mark_all_cells():\n",
    "\n",
    "    if Path(LABELS_PATH).isfile():\n",
    "        with open(LABELS_PATH, \"rb\") as file:\n",
    "            labels = pickle.load(file)\n",
    "    else:\n",
    "        labels = {}\n",
    "\n",
    "    mark_cells(sorted(glob.glob(FILTERED_TMP_PATH + '/*/??.jpg')), labels)\n",
    "\n",
    "mark_all_cells()"
   ],
   "metadata": {
    "collapsed": false,
    "pycharm": {
     "name": "#%%\n"
    }
   }
  },
  {
   "cell_type": "code",
   "execution_count": 2,
   "outputs": [],
   "source": [
    "def ensure_dir(directory):\n",
    "    if not os.path.exists(directory):\n",
    "        os.makedirs(directory)\n",
    "\n",
    "def remove_if_exists(path: Path):\n",
    "    if path.isfile():\n",
    "        path.remove()\n",
    "\n",
    "def split_dataset_based_on_labels(labels):\n",
    "\n",
    "    ensure_dir(EMPTY_PATH)\n",
    "    ensure_dir(WHITE_PATH)\n",
    "    ensure_dir(BLACK_PATH)\n",
    "\n",
    "    for path, color in labels.items():\n",
    "        absolute_path = Path(f\"{FILTERED_TMP_PATH}/{path}\")\n",
    "        target_filename = f\"{absolute_path.parent.name}${absolute_path.name}\"\n",
    "\n",
    "        empty_path = Path(f\"{EMPTY_PATH}/{target_filename}\")\n",
    "        white_path = Path(f\"{WHITE_PATH}/{target_filename}\")\n",
    "        black_path = Path(f\"{BLACK_PATH}/{target_filename}\")\n",
    "\n",
    "        if color == EMPTY:\n",
    "            absolute_path.copy2(empty_path)\n",
    "            remove_if_exists(white_path)\n",
    "            remove_if_exists(black_path)\n",
    "        elif color == WHITE:\n",
    "            absolute_path.copy2(white_path)\n",
    "            remove_if_exists(empty_path)\n",
    "            remove_if_exists(black_path)\n",
    "        elif color == BLACK:\n",
    "            absolute_path.copy2(black_path)\n",
    "            remove_if_exists(empty_path)\n",
    "            remove_if_exists(white_path)\n",
    "        else:\n",
    "            remove_if_exists(empty_path)\n",
    "            remove_if_exists(white_path)\n",
    "            remove_if_exists(black_path)\n",
    "\n",
    "with open(LABELS_PATH, \"rb\") as file:\n",
    "    labels = pickle.load(file)\n",
    "    split_dataset_based_on_labels(labels)"
   ],
   "metadata": {
    "collapsed": false,
    "pycharm": {
     "name": "#%%\n"
    }
   }
  },
  {
   "cell_type": "code",
   "execution_count": 14,
   "outputs": [],
   "source": [
    "shutil.rmtree(FILTERED_TMP_PATH)"
   ],
   "metadata": {
    "collapsed": false,
    "pycharm": {
     "name": "#%%\n"
    }
   }
  },
  {
   "cell_type": "code",
   "execution_count": 28,
   "outputs": [
    {
     "data": {
      "text/plain": "Path('/home/eg4l/datasets/labels.pickle')"
     },
     "execution_count": 28,
     "metadata": {},
     "output_type": "execute_result"
    }
   ],
   "source": [
    "Path(LABELS_PATH).remove()"
   ],
   "metadata": {
    "collapsed": false,
    "pycharm": {
     "name": "#%%\n"
    }
   }
  },
  {
   "cell_type": "code",
   "execution_count": null,
   "outputs": [],
   "source": [
    "# Semi reset opencv windows\n",
    "cv2.destroyAllWindows()"
   ],
   "metadata": {
    "collapsed": false,
    "pycharm": {
     "name": "#%%\n"
    }
   }
  },
  {
   "cell_type": "code",
   "execution_count": 1,
   "outputs": [
    {
     "name": "stdout",
     "output_type": "stream",
     "text": [
      "Hello world!!!\n"
     ]
    }
   ],
   "source": [],
   "metadata": {
    "collapsed": false,
    "pycharm": {
     "name": "#%%\n"
    }
   }
  }
 ]
}